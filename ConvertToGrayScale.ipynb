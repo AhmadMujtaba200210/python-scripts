{
  "nbformat": 4,
  "nbformat_minor": 0,
  "metadata": {
    "colab": {
      "provenance": [],
      "authorship_tag": "ABX9TyPKpoY0RT7LQ0f9rxdkqPM7",
      "include_colab_link": true
    },
    "kernelspec": {
      "name": "python3",
      "display_name": "Python 3"
    },
    "language_info": {
      "name": "python"
    }
  },
  "cells": [
    {
      "cell_type": "markdown",
      "metadata": {
        "id": "view-in-github",
        "colab_type": "text"
      },
      "source": [
        "<a href=\"https://colab.research.google.com/github/AhmadMujtaba200210/python-scripts/blob/develop/ConvertToGrayScale.ipynb\" target=\"_parent\"><img src=\"https://colab.research.google.com/assets/colab-badge.svg\" alt=\"Open In Colab\"/></a>"
      ]
    },
    {
      "cell_type": "code",
      "execution_count": 3,
      "metadata": {
        "id": "gjxXDoajtTqP"
      },
      "outputs": [],
      "source": [
        "import cv2\n",
        "from IPython.display import Image, display\n",
        "from google.colab import files\n"
      ]
    },
    {
      "cell_type": "code",
      "source": [
        "def convert_to_grayscale(input_path, output_path):\n",
        "    # Load the image\n",
        "    image = cv2.imread(input_path, cv2.IMREAD_UNCHANGED)\n",
        "\n",
        "    # Check if the image was loaded successfully\n",
        "    if image is None:\n",
        "        print(\"Error: Unable to load the image.\")\n",
        "        return\n",
        "\n",
        "    # Convert the image to grayscale\n",
        "    grayscale_image = cv2.cvtColor(image, cv2.COLOR_BGR2GRAY)\n",
        "\n",
        "    # Save the grayscale image\n",
        "    cv2.imwrite(output_path, grayscale_image)\n",
        "\n",
        "    print(\"Grayscale conversion successful!\")\n",
        "\n",
        "    # Display the grayscale image\n",
        "    display(Image(filename=output_path))\n",
        "\n",
        "    # Download the grayscale image\n",
        "    files.download(output_path)\n",
        "\n",
        "if __name__ == \"__main__\":\n",
        "    input_path = \"uplo\"  # Replace with the uploaded image filename\n",
        "    output_path = \"output_grayscale_image.jpg\"  # Replace with the desired output filename\n",
        "\n",
        "    convert_to_grayscale(input_path, output_path)"
      ],
      "metadata": {
        "colab": {
          "base_uri": "https://localhost:8080/"
        },
        "id": "z9hWlGFktecK",
        "outputId": "31c06343-0591-4750-b713-afe2d37ab3ac"
      },
      "execution_count": 2,
      "outputs": [
        {
          "output_type": "stream",
          "name": "stdout",
          "text": [
            "Grayscale conversion successful!\n"
          ]
        }
      ]
    }
  ]
}